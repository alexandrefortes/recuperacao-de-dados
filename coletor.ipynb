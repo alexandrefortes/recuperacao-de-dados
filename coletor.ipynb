{
 "cells": [
  {
   "cell_type": "markdown",
   "metadata": {},
   "source": [
    "## Especialização em Inteligência Artificial – IFMG\n",
    "## Recuperação da Informação\n",
    "**Aluno**: Alexandre Fortes Santana  \n",
    "\n",
    "**Professor**: Moisés Ramos\n",
    "\n",
    "[Notebook: https://github.com/alexandrefortes/series-temporais/blob/main/Lista%20de%20Exercicios%2003.ipynb](https://github.com/alexandrefortes/series-temporais/blob/main/Lista%20de%20Exercicios%2003.ipynb)  "
   ]
  },
  {
   "cell_type": "code",
   "execution_count": null,
   "metadata": {},
   "outputs": [],
   "source": []
  }
 ],
 "metadata": {
  "language_info": {
   "name": "python"
  }
 },
 "nbformat": 4,
 "nbformat_minor": 2
}
