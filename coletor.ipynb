{
 "cells": [
  {
   "cell_type": "markdown",
   "metadata": {},
   "source": [
    "## Especialização em Inteligência Artificial – IFMG\n",
    "## Recuperação da Informação\n",
    "**Aluno**: Alexandre Fortes Santana  \n",
    "\n",
    "**Professor**: Moisés Ramos\n",
    "\n",
    "[Notebook: https://github.com/alexandrefortes/recuperacao-de-dados/blob/main/coletor.ipynb](https://github.com/alexandrefortes/recuperacao-de-dados/blob/main/coletor.ipynb)  "
   ]
  },
  {
   "cell_type": "markdown",
   "metadata": {},
   "source": [
    "## Planejamento e Definição de Escopo"
   ]
  },
  {
   "cell_type": "markdown",
   "metadata": {},
   "source": [
    "### Escopo\n",
    "- O objetivo é indexar o conteúdo do portal da Efí Bank (https://sejaefi.com.br), utilizando os conhecimentos adquiridos em arquitetura de informação. Esta etapa visa treinar um bot GPT para realizar atendimento de nível 1 aos clientes da Efí Bank.\n",
    "\n",
    "### Seleção do Coletor\n",
    "- Com a finalidade de indexar o conteúdo do portal da Efí Bank para o treinamento de um bot GPT, a escolha recai sobre o Scrapy devido à sua facilidade de uso, extensa documentação e flexibilidade para customizações. Para lidar com conteúdos dinâmicos, optei pelo Splash.\n",
    "\n",
    "### Armazenamento\n",
    "- A decisão foi por armazenar os dados em um arquivo .json.\n",
    "\n",
    "### Boas Práticas na Coleta\n",
    "- Será desenvolvido um mecanismo para minimizar a sobrecarga no portal, incluindo o controle da frequência de acessos e a identificação transparente do agente de coleta.\n",
    "\n",
    "### Tratamento de Conteúdo Dinâmico e Erros\n",
    "Desafios Encontrados:\n",
    "- Durante os testes no portal escolhido, que faz uso de tecnologias recentes de carregamento assíncrono, identificou-se que o Splash, mesmo com as configurações mais comuns, não conseguiu realizar a raspagem de forma eficaz. A decisão foi de prosseguir o desenvolvimento utilizando o Splash, mas, para fins deste exercício, a abordagem foi revertida para o uso exclusivo do Scrapy.\n"
   ]
  },
  {
   "cell_type": "markdown",
   "metadata": {},
   "source": [
    "## Resultados\n",
    "\n",
    "**Coletor para entrega do trabalho**: https://github.com/alexandrefortes/recuperacao-de-dados/tree/main/scrapy\n",
    "\n",
    "**Testes com Scrapy+Splash**: https://github.com/alexandrefortes/recuperacao-de-dados/tree/main/scrapy%2Bsplash"
   ]
  },
  {
   "cell_type": "markdown",
   "metadata": {},
   "source": [
    "## Coletor"
   ]
  },
  {
   "cell_type": "code",
   "execution_count": null,
   "metadata": {},
   "outputs": [],
   "source": [
    "# BlocoComando para executar o spider durante os testes e evitar o erro ReactorNotRestartable\n",
    "\n",
    "import subprocess\n",
    "command = 'scrapy runspider scrapy/efi_crawl_spider.py'\n",
    "process = subprocess.Popen(command, shell=True, stdout=subprocess.PIPE, stderr=subprocess.PIPE)\n",
    "stdout, stderr = process.communicate()\n",
    "if process.returncode == 0:\n",
    "    print(\"Spider executado com sucesso\")\n",
    "    print(stdout.decode('utf-8'))\n",
    "else:\n",
    "    print(\"Erro ao executar o Spider\")\n",
    "    print(stderr.decode('utf-8'))"
   ]
  }
 ],
 "metadata": {
  "kernelspec": {
   "display_name": "Python (efi_spider)",
   "language": "python",
   "name": "efi_spider"
  },
  "language_info": {
   "codemirror_mode": {
    "name": "ipython",
    "version": 3
   },
   "file_extension": ".py",
   "mimetype": "text/x-python",
   "name": "python",
   "nbconvert_exporter": "python",
   "pygments_lexer": "ipython3",
   "version": "3.8.19"
  }
 },
 "nbformat": 4,
 "nbformat_minor": 2
}
