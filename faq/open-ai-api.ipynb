{
 "cells": [
  {
   "cell_type": "code",
   "execution_count": 13,
   "metadata": {},
   "outputs": [],
   "source": [
    "from dotenv import load_dotenv\n",
    "import os\n",
    "from openai import OpenAI\n",
    "\n",
    "def fala_gepeto(prompt):\n",
    "    temperature=0.7\n",
    "    model_to_use = \"gpt-4-0125-preview\"\n",
    "    max_tokens=4096\n",
    "    response_config={\"type\": \"json_object\"}\n",
    "\n",
    "    load_dotenv()\n",
    "    api_key=os.getenv(\"OPENAI_API_KEY_FAQ\")\n",
    "    \n",
    "    openai_client = OpenAI(api_key=api_key)\n",
    "\n",
    "    completion = openai_client.chat.completions.create(\n",
    "        model=model_to_use,\n",
    "        response_format=response_config,\n",
    "        temperature=temperature,\n",
    "        max_tokens=max_tokens,\n",
    "        messages=[\n",
    "            {\"role\": \"system\", \"content\": \"Você é um especialista em: escrita de FAQs para atendimento a clientes, sintetização objetiva e em imitar o tom de voz de outros textos que sejam objeto do seu trabalho.\"},\n",
    "            {\"role\": \"user\", \"content\": prompt}\n",
    "        ]\n",
    "    )\n",
    "    return completion.choices[0].message.content"
   ]
  },
  {
   "cell_type": "code",
   "execution_count": 14,
   "metadata": {},
   "outputs": [
    {
     "name": "stdout",
     "output_type": "stream",
     "text": [
      "{\n",
      "  \"mensagem\": \"Oi\"\n",
      "}\n"
     ]
    }
   ],
   "source": [
    "print(fala_gepeto(\"diga só oi em json\"))"
   ]
  },
  {
   "cell_type": "code",
   "execution_count": null,
   "metadata": {},
   "outputs": [],
   "source": [
    "import json\n",
    "import requests\n",
    "\n",
    "# JSON para o prompt da solicitação de análise de perfil de investimento\n",
    "prompt_json = json.dumps({\n",
    "    \"solicitação\": \"Análise de Perfil de Investimento\",\n",
    "    \"cliente\": {\n",
    "        \"objetivo\": \"Reserva financeira para emergências\",\n",
    "        \"conhecimento_investimento\": \"Iniciante\",\n",
    "        \"patrimonio_total\": \"Até R$ 250.000,00\",\n",
    "        \"valor_investido\": \"R$ 0,00\",\n",
    "        \"experiencia_investimento\": \"Nenhuma\",\n",
    "        \"reação_perda_significativa\": \"Resgataria o dinheiro rapidamente\",\n",
    "        \"horizonte_investimento\": \"Menos de 1 ano\",\n",
    "        \"renda_mensal\": \"Até R$ 3.000,00\",\n",
    "        \"faixa_etaria\": \"Entre 30 e 45 anos\"\n",
    "    }\n",
    "})\n",
    "\n",
    "# JSON para o resultado da análise do perfil de investimento\n",
    "resultado_json = json.dumps({\n",
    "    \"resultado_análise\": {\n",
    "        \"perfil_investidor\": \"Conservador,moderado,arrojado\",\n",
    "        \"justificativa\": {\n",
    "            \"objetivo_investimento\": \"\",\n",
    "            \"conhecimento_investimento\": \"\",\n",
    "            \"experiência_investimento\": \"\",\n",
    "            \"reação_perda_significativa\": \"\",\n",
    "            \"horizonte_investimento\": \"\",\n",
    "            \"renda_mensal\": \"\"\n",
    "        },\n",
    "        \"recomendações\": {\n",
    "            \"tipo_investimento\": [\"exemplo: Poupança\", \"etc\"],\n",
    "            \"observações\": \"\"\n",
    "        },\n",
    "        \"liability_análise\": {\n",
    "            \"risco_legal\": \"\",\n",
    "            \"adequação_ao_perfil\": \"\",\n",
    "            \"necessidade_continuada_avaliação\": \"\"\n",
    "        }\n",
    "    }\n",
    "})\n",
    "\n",
    "prompt_inicial = (\n",
    "    f\"respostas_do_cliente: {prompt_json}\"\n",
    "    f\"modelo_da_analise_esperada:{resultado_json}\"    \n",
    ")\n",
    "\n",
    "print(fala_gepeto(prompt_inicial, 0.7, model=\"gpt-4\", max_tokens=1000, response_format=\"json\"))"
   ]
  }
 ],
 "metadata": {
  "kernelspec": {
   "display_name": "Python (efi_spider)",
   "language": "python",
   "name": "efi_spider"
  },
  "language_info": {
   "codemirror_mode": {
    "name": "ipython",
    "version": 3
   },
   "file_extension": ".py",
   "mimetype": "text/x-python",
   "name": "python",
   "nbconvert_exporter": "python",
   "pygments_lexer": "ipython3",
   "version": "3.8.19"
  }
 },
 "nbformat": 4,
 "nbformat_minor": 2
}
